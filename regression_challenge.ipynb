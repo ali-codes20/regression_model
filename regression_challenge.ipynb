{
 "cells": [
  {
   "cell_type": "code",
   "execution_count": 2,
   "source": [
    "import pandas as pd\n",
    "import numpy as np\n",
    "import matplotlib.pyplot as plt\n",
    "\n",
    "import tensorflow as tf\n",
    "from tensorflow\timport keras\n",
    "from tensorflow.keras.models import Sequential\n",
    "from tensorflow.keras.callbacks import EarlyStopping\n",
    "from tensorflow.keras import layers\n",
    "\n",
    "from sklearn.model_selection import train_test_split\n",
    "from sklearn.preprocessing import StandardScaler\n",
    "from sklearn.preprocessing import Normalizer\n",
    "from sklearn.metrics import r2_score"
   ],
   "outputs": [],
   "metadata": {}
  },
  {
   "cell_type": "code",
   "execution_count": 29,
   "source": [
    "from sklearn.compose import ColumnTransformer\n",
    "from tensorflow.keras.layers import InputLayer\n",
    "from tensorflow.keras.layers import Dense\n",
    "from tensorflow.keras.optimizers import Adam\n",
    "import tensorflow\n",
    "from tensorflow_core.python.keras.utils.data_utils import Sequence\n",
    "from tensorflow.keras.utils import Sequence\n",
    "import numpy as np\n",
    "import tensorflow as tf"
   ],
   "outputs": [],
   "metadata": {}
  },
  {
   "cell_type": "code",
   "execution_count": 32,
   "source": [
    "# load admissions data\n",
    "admissions_data = pd.read_csv(\"admissions_data.csv\")\n",
    "print(admissions_data.head())"
   ],
   "outputs": [
    {
     "output_type": "stream",
     "name": "stdout",
     "text": [
      "   Serial No.  GRE Score  TOEFL Score  University Rating  SOP  LOR   CGPA  \\\n",
      "0           1        337          118                  4  4.5   4.5  9.65   \n",
      "1           2        324          107                  4  4.0   4.5  8.87   \n",
      "2           3        316          104                  3  3.0   3.5  8.00   \n",
      "3           4        322          110                  3  3.5   2.5  8.67   \n",
      "4           5        314          103                  2  2.0   3.0  8.21   \n",
      "\n",
      "   Research  Chance of Admit   \n",
      "0         1              0.92  \n",
      "1         1              0.76  \n",
      "2         1              0.72  \n",
      "3         1              0.80  \n",
      "4         0              0.65  \n"
     ]
    }
   ],
   "metadata": {}
  },
  {
   "cell_type": "code",
   "execution_count": 33,
   "source": [
    "admissions_data.describe()\n",
    "print(admissions_data.shape)"
   ],
   "outputs": [
    {
     "output_type": "stream",
     "name": "stdout",
     "text": [
      "(500, 9)\n"
     ]
    }
   ],
   "metadata": {}
  },
  {
   "cell_type": "code",
   "execution_count": 34,
   "source": [
    "# mark predicted values\n",
    "labels = admissions_data.iloc[:,-1]\n",
    "print(labels.describe())"
   ],
   "outputs": [
    {
     "output_type": "stream",
     "name": "stdout",
     "text": [
      "count    500.00000\n",
      "mean       0.72174\n",
      "std        0.14114\n",
      "min        0.34000\n",
      "25%        0.63000\n",
      "50%        0.72000\n",
      "75%        0.82000\n",
      "max        0.97000\n",
      "Name: Chance of Admit , dtype: float64\n"
     ]
    }
   ],
   "metadata": {}
  },
  {
   "cell_type": "code",
   "execution_count": 35,
   "source": [
    "# mark features\n",
    "features = admissions_data.iloc[:, 1:8]"
   ],
   "outputs": [],
   "metadata": {}
  },
  {
   "cell_type": "code",
   "execution_count": 36,
   "source": [
    "#split our training and test set\n",
    "features_train, features_test, labels_train, labels_test = train_test_split(features, labels, test_size=0.25, random_state = 42)\n"
   ],
   "outputs": [],
   "metadata": {}
  },
  {
   "cell_type": "code",
   "execution_count": 37,
   "source": [
    "# standardizing our data by scaling it\n",
    "sc = StandardScaler()\n",
    "features_train_scale = sc.fit_transform(features_train)\n",
    "features_test_scale = sc.transform(features_test)"
   ],
   "outputs": [],
   "metadata": {}
  },
  {
   "cell_type": "code",
   "execution_count": 38,
   "source": [
    "features_train_scale = pd.DataFrame(features_train_scale, columns = features_train.columns)\n",
    "features_test_scale = pd.DataFrame(features_test_scale, columns = features_test.columns)"
   ],
   "outputs": [],
   "metadata": {}
  },
  {
   "cell_type": "code",
   "execution_count": 39,
   "source": [
    "print(features_train_scale.describe())\n",
    "print(features_test_scale.describe())"
   ],
   "outputs": [
    {
     "output_type": "stream",
     "name": "stdout",
     "text": [
      "          GRE Score   TOEFL Score  University Rating           SOP  \\\n",
      "count  3.750000e+02  3.750000e+02       3.750000e+02  3.750000e+02   \n",
      "mean  -1.373716e-15  9.379164e-16      -9.473903e-17 -2.036889e-16   \n",
      "std    1.001336e+00  1.001336e+00       1.001336e+00  1.001336e+00   \n",
      "min   -2.162386e+00 -2.506821e+00      -1.827711e+00 -2.400715e+00   \n",
      "25%   -7.045978e-01 -7.056302e-01      -9.590273e-01 -8.885067e-01   \n",
      "50%    2.429648e-02 -5.065167e-02      -9.034315e-02  1.196325e-01   \n",
      "75%    7.531908e-01  7.680714e-01       7.783410e-01  6.237021e-01   \n",
      "max    2.119868e+00  2.078028e+00       1.647025e+00  1.631841e+00   \n",
      "\n",
      "               LOR           CGPA      Research  \n",
      "count  3.750000e+02  3.750000e+02  3.750000e+02  \n",
      "mean  -1.136868e-16 -1.316873e-15 -9.473903e-18  \n",
      "std    1.001336e+00  1.001336e+00  1.001336e+00  \n",
      "min   -2.144320e+00 -2.964876e+00 -1.116024e+00  \n",
      "25%   -5.154475e-01 -7.520337e-01 -1.116024e+00  \n",
      "50%    2.750984e-02 -1.996550e-02  8.960383e-01  \n",
      "75%    5.704672e-01  7.620165e-01  8.960383e-01  \n",
      "max    1.656382e+00  2.226153e+00  8.960383e-01  \n",
      "        GRE Score  TOEFL Score  University Rating         SOP        LOR   \\\n",
      "count  125.000000   125.000000         125.000000  125.000000  125.000000   \n",
      "mean    -0.095242    -0.076851           0.034747   -0.029572    0.040541   \n",
      "std      1.109474     0.981014           0.972496    0.995919    1.019201   \n",
      "min     -2.435722    -2.343076          -1.827711   -2.400715   -2.687277   \n",
      "25%     -1.069045    -0.705630          -0.959027   -0.888507   -0.515447   \n",
      "50%     -0.066815    -0.214396          -0.090343    0.119633    0.027510   \n",
      "75%      0.753191     0.604327           0.778341    0.623702    0.570467   \n",
      "max      2.119868     2.078028           1.647025    1.631841    1.656382   \n",
      "\n",
      "             CGPA    Research  \n",
      "count  125.000000  125.000000  \n",
      "mean    -0.037003    0.042924  \n",
      "std      1.024542    0.998343  \n",
      "min     -2.282722   -1.116024  \n",
      "25%     -0.768672   -1.116024  \n",
      "50%     -0.069879    0.896038  \n",
      "75%      0.778654    0.896038  \n",
      "max      2.026498    0.896038  \n"
     ]
    }
   ],
   "metadata": {}
  },
  {
   "cell_type": "code",
   "execution_count": 40,
   "source": [
    "# function to design the model\n",
    "def design_model(feature_data):\n",
    "\tmodel = Sequential()\n",
    "\tnum_features = feature_data.shape[1]\n",
    "\tinput = tf.keras.Input(shape=(num_features))\n",
    "\tmodel.add(input)\n",
    "\t# this model has two hidden layers and two dropout layers\n",
    "\t# relu activation function is used at both hidden layers\n",
    "\thidden_layer = layers.Dense(16, activation='relu')\n",
    "\tmodel.add(hidden_layer)\n",
    "\tmodel.add(layers.Dropout(0.1))\n",
    "\thidden_layer_2 = layers.Dense(8, activation='relu')\n",
    "\tmodel.add(hidden_layer_2)\n",
    "\tmodel.add(layers.Dropout(0.2))\n",
    "\tmodel.add(layers.Dense(1))\n",
    "\n",
    "\t# using an adam optimizer with a learning rate of 0.005\n",
    "\t# using mean-squared error as our loss function and mean average error as our metric\n",
    "\topt = keras.optimizers.Adam(learning_rate=0.005)\n",
    "\tmodel.compile(loss='mse', metrics=['mae'], optimizer=opt)\n",
    "\treturn model"
   ],
   "outputs": [],
   "metadata": {}
  },
  {
   "cell_type": "code",
   "execution_count": 41,
   "source": [
    "# apply the model to the scaled training data\n",
    "model = design_model(features_train_scale)\n",
    "print(model.summary())"
   ],
   "outputs": [
    {
     "output_type": "stream",
     "name": "stdout",
     "text": [
      "Model: \"sequential_1\"\n",
      "_________________________________________________________________\n",
      "Layer (type)                 Output Shape              Param #   \n",
      "=================================================================\n",
      "dense_2 (Dense)              (None, 16)                128       \n",
      "_________________________________________________________________\n",
      "dropout (Dropout)            (None, 16)                0         \n",
      "_________________________________________________________________\n",
      "dense_3 (Dense)              (None, 8)                 136       \n",
      "_________________________________________________________________\n",
      "dropout_1 (Dropout)          (None, 8)                 0         \n",
      "_________________________________________________________________\n",
      "dense_4 (Dense)              (None, 1)                 9         \n",
      "=================================================================\n",
      "Total params: 273\n",
      "Trainable params: 273\n",
      "Non-trainable params: 0\n",
      "_________________________________________________________________\n",
      "None\n"
     ]
    }
   ],
   "metadata": {}
  },
  {
   "cell_type": "code",
   "execution_count": 42,
   "source": [
    "# apply early stopping for efficiency\n",
    "es = EarlyStopping(monitor='val_loss', mode='min', verbose=1, patience=20)"
   ],
   "outputs": [],
   "metadata": {}
  },
  {
   "cell_type": "code",
   "execution_count": 43,
   "source": [
    "# fit the model with 100 epochs and a batch size of 8\n",
    "# validation split at 0.25\n",
    "history = model.fit(features_train_scale, labels_train.to_numpy(), epochs=100, batch_size=8, verbose=1, validation_split=0.25, callbacks=[es])"
   ],
   "outputs": [
    {
     "output_type": "stream",
     "name": "stdout",
     "text": [
      "WARNING:tensorflow:Falling back from v2 loop because of error: Failed to find data adapter that can handle input: <class 'pandas.core.frame.DataFrame'>, <class 'NoneType'>\n",
      "Train on 281 samples, validate on 94 samples\n",
      "Epoch 1/100\n",
      "281/281 [==============================] - 2s 6ms/sample - loss: 0.2751 - mae: 0.4190 - val_loss: 0.0514 - val_mae: 0.1928\n",
      "Epoch 2/100\n",
      "281/281 [==============================] - 0s 612us/sample - loss: 0.1102 - mae: 0.2711 - val_loss: 0.0180 - val_mae: 0.1086\n",
      "Epoch 3/100\n",
      "281/281 [==============================] - 0s 696us/sample - loss: 0.0547 - mae: 0.1912 - val_loss: 0.0136 - val_mae: 0.0971\n",
      "Epoch 4/100\n",
      "281/281 [==============================] - 0s 723us/sample - loss: 0.0417 - mae: 0.1634 - val_loss: 0.0119 - val_mae: 0.0867\n",
      "Epoch 5/100\n",
      "281/281 [==============================] - 0s 766us/sample - loss: 0.0351 - mae: 0.1499 - val_loss: 0.0112 - val_mae: 0.0871\n",
      "Epoch 6/100\n",
      "281/281 [==============================] - 0s 699us/sample - loss: 0.0274 - mae: 0.1299 - val_loss: 0.0081 - val_mae: 0.0731\n",
      "Epoch 7/100\n",
      "281/281 [==============================] - 0s 730us/sample - loss: 0.0222 - mae: 0.1160 - val_loss: 0.0088 - val_mae: 0.0783\n",
      "Epoch 8/100\n",
      "281/281 [==============================] - 0s 698us/sample - loss: 0.0189 - mae: 0.1100 - val_loss: 0.0062 - val_mae: 0.0641\n",
      "Epoch 9/100\n",
      "281/281 [==============================] - 0s 736us/sample - loss: 0.0157 - mae: 0.1026 - val_loss: 0.0061 - val_mae: 0.0634\n",
      "Epoch 10/100\n",
      "281/281 [==============================] - 0s 590us/sample - loss: 0.0159 - mae: 0.0983 - val_loss: 0.0060 - val_mae: 0.0634\n",
      "Epoch 11/100\n",
      "281/281 [==============================] - 0s 592us/sample - loss: 0.0122 - mae: 0.0880 - val_loss: 0.0050 - val_mae: 0.0568\n",
      "Epoch 12/100\n",
      "281/281 [==============================] - 0s 626us/sample - loss: 0.0121 - mae: 0.0861 - val_loss: 0.0071 - val_mae: 0.0735\n",
      "Epoch 13/100\n",
      "281/281 [==============================] - 0s 618us/sample - loss: 0.0097 - mae: 0.0778 - val_loss: 0.0046 - val_mae: 0.0549\n",
      "Epoch 14/100\n",
      "281/281 [==============================] - 0s 621us/sample - loss: 0.0109 - mae: 0.0798 - val_loss: 0.0059 - val_mae: 0.0658\n",
      "Epoch 15/100\n",
      "281/281 [==============================] - 0s 593us/sample - loss: 0.0089 - mae: 0.0737 - val_loss: 0.0040 - val_mae: 0.0508\n",
      "Epoch 16/100\n",
      "281/281 [==============================] - 0s 636us/sample - loss: 0.0083 - mae: 0.0715 - val_loss: 0.0043 - val_mae: 0.0545\n",
      "Epoch 17/100\n",
      "281/281 [==============================] - 0s 618us/sample - loss: 0.0077 - mae: 0.0674 - val_loss: 0.0035 - val_mae: 0.0468\n",
      "Epoch 18/100\n",
      "281/281 [==============================] - 0s 606us/sample - loss: 0.0076 - mae: 0.0664 - val_loss: 0.0036 - val_mae: 0.0489\n",
      "Epoch 19/100\n",
      "281/281 [==============================] - 0s 695us/sample - loss: 0.0082 - mae: 0.0688 - val_loss: 0.0037 - val_mae: 0.0499\n",
      "Epoch 20/100\n",
      "281/281 [==============================] - 0s 659us/sample - loss: 0.0083 - mae: 0.0702 - val_loss: 0.0031 - val_mae: 0.0434\n",
      "Epoch 21/100\n",
      "281/281 [==============================] - 0s 644us/sample - loss: 0.0087 - mae: 0.0685 - val_loss: 0.0039 - val_mae: 0.0522\n",
      "Epoch 22/100\n",
      "281/281 [==============================] - 0s 645us/sample - loss: 0.0072 - mae: 0.0644 - val_loss: 0.0030 - val_mae: 0.0402\n",
      "Epoch 23/100\n",
      "281/281 [==============================] - 0s 701us/sample - loss: 0.0072 - mae: 0.0649 - val_loss: 0.0032 - val_mae: 0.0450\n",
      "Epoch 24/100\n",
      "281/281 [==============================] - 0s 697us/sample - loss: 0.0077 - mae: 0.0675 - val_loss: 0.0033 - val_mae: 0.0451\n",
      "Epoch 25/100\n",
      "281/281 [==============================] - 0s 620us/sample - loss: 0.0067 - mae: 0.0630 - val_loss: 0.0028 - val_mae: 0.0401\n",
      "Epoch 26/100\n",
      "281/281 [==============================] - 0s 627us/sample - loss: 0.0070 - mae: 0.0653 - val_loss: 0.0029 - val_mae: 0.0417\n",
      "Epoch 27/100\n",
      "281/281 [==============================] - 0s 644us/sample - loss: 0.0070 - mae: 0.0617 - val_loss: 0.0028 - val_mae: 0.0387\n",
      "Epoch 28/100\n",
      "281/281 [==============================] - 0s 618us/sample - loss: 0.0066 - mae: 0.0624 - val_loss: 0.0030 - val_mae: 0.0390\n",
      "Epoch 29/100\n",
      "281/281 [==============================] - 0s 644us/sample - loss: 0.0065 - mae: 0.0608 - val_loss: 0.0031 - val_mae: 0.0413\n",
      "Epoch 30/100\n",
      "281/281 [==============================] - 0s 603us/sample - loss: 0.0067 - mae: 0.0630 - val_loss: 0.0026 - val_mae: 0.0362\n",
      "Epoch 31/100\n",
      "281/281 [==============================] - 0s 629us/sample - loss: 0.0068 - mae: 0.0620 - val_loss: 0.0029 - val_mae: 0.0399\n",
      "Epoch 32/100\n",
      "281/281 [==============================] - 0s 655us/sample - loss: 0.0064 - mae: 0.0615 - val_loss: 0.0026 - val_mae: 0.0370\n",
      "Epoch 33/100\n",
      "281/281 [==============================] - 0s 631us/sample - loss: 0.0059 - mae: 0.0596 - val_loss: 0.0029 - val_mae: 0.0416\n",
      "Epoch 34/100\n",
      "281/281 [==============================] - 0s 585us/sample - loss: 0.0064 - mae: 0.0599 - val_loss: 0.0027 - val_mae: 0.0381\n",
      "Epoch 35/100\n",
      "281/281 [==============================] - 0s 691us/sample - loss: 0.0068 - mae: 0.0620 - val_loss: 0.0032 - val_mae: 0.0450\n",
      "Epoch 36/100\n",
      "281/281 [==============================] - 0s 666us/sample - loss: 0.0061 - mae: 0.0593 - val_loss: 0.0030 - val_mae: 0.0425\n",
      "Epoch 37/100\n",
      "281/281 [==============================] - 0s 614us/sample - loss: 0.0068 - mae: 0.0622 - val_loss: 0.0032 - val_mae: 0.0459\n",
      "Epoch 38/100\n",
      "281/281 [==============================] - 0s 607us/sample - loss: 0.0070 - mae: 0.0658 - val_loss: 0.0033 - val_mae: 0.0468\n",
      "Epoch 39/100\n",
      "281/281 [==============================] - 0s 639us/sample - loss: 0.0068 - mae: 0.0612 - val_loss: 0.0030 - val_mae: 0.0427\n",
      "Epoch 40/100\n",
      "281/281 [==============================] - 0s 545us/sample - loss: 0.0077 - mae: 0.0643 - val_loss: 0.0031 - val_mae: 0.0445\n",
      "Epoch 41/100\n",
      "281/281 [==============================] - 0s 590us/sample - loss: 0.0065 - mae: 0.0619 - val_loss: 0.0029 - val_mae: 0.0403\n",
      "Epoch 42/100\n",
      "281/281 [==============================] - 0s 613us/sample - loss: 0.0064 - mae: 0.0613 - val_loss: 0.0028 - val_mae: 0.0399\n",
      "Epoch 43/100\n",
      "281/281 [==============================] - 0s 733us/sample - loss: 0.0062 - mae: 0.0588 - val_loss: 0.0026 - val_mae: 0.0382\n",
      "Epoch 44/100\n",
      "281/281 [==============================] - 0s 577us/sample - loss: 0.0069 - mae: 0.0624 - val_loss: 0.0035 - val_mae: 0.0459\n",
      "Epoch 45/100\n",
      "281/281 [==============================] - 0s 623us/sample - loss: 0.0064 - mae: 0.0598 - val_loss: 0.0028 - val_mae: 0.0382\n",
      "Epoch 46/100\n",
      "281/281 [==============================] - 0s 569us/sample - loss: 0.0062 - mae: 0.0618 - val_loss: 0.0028 - val_mae: 0.0400\n",
      "Epoch 47/100\n",
      "281/281 [==============================] - 0s 599us/sample - loss: 0.0066 - mae: 0.0594 - val_loss: 0.0034 - val_mae: 0.0465\n",
      "Epoch 48/100\n",
      "281/281 [==============================] - 0s 629us/sample - loss: 0.0067 - mae: 0.0621 - val_loss: 0.0027 - val_mae: 0.0373\n",
      "Epoch 49/100\n",
      "281/281 [==============================] - 0s 579us/sample - loss: 0.0063 - mae: 0.0599 - val_loss: 0.0032 - val_mae: 0.0446\n",
      "Epoch 50/100\n",
      "281/281 [==============================] - 0s 566us/sample - loss: 0.0068 - mae: 0.0624 - val_loss: 0.0026 - val_mae: 0.0369\n",
      "Epoch 00050: early stopping\n"
     ]
    }
   ],
   "metadata": {}
  },
  {
   "cell_type": "code",
   "execution_count": 44,
   "source": [
    "# evaluate the model\n",
    "val_mse, val_mae = model.evaluate(features_test_scale, labels_test.to_numpy(), verbose = 0)"
   ],
   "outputs": [
    {
     "output_type": "stream",
     "name": "stdout",
     "text": [
      "WARNING:tensorflow:Falling back from v2 loop because of error: Failed to find data adapter that can handle input: <class 'pandas.core.frame.DataFrame'>, <class 'NoneType'>\n"
     ]
    }
   ],
   "metadata": {}
  },
  {
   "cell_type": "code",
   "execution_count": 45,
   "source": [
    "# view the MAE performance\n",
    "print(\"MAE: \", val_mae)"
   ],
   "outputs": [
    {
     "output_type": "stream",
     "name": "stdout",
     "text": [
      "MAE:  0.04647823\n"
     ]
    }
   ],
   "metadata": {}
  },
  {
   "cell_type": "code",
   "execution_count": 47,
   "source": [
    "# evauate r-squared score\n",
    "y_pred = model.predict(features_test_scale)\n",
    "print(r2_score(labels_test,y_pred))"
   ],
   "outputs": [
    {
     "output_type": "stream",
     "name": "stdout",
     "text": [
      "WARNING:tensorflow:Falling back from v2 loop because of error: Failed to find data adapter that can handle input: <class 'pandas.core.frame.DataFrame'>, <class 'NoneType'>\n",
      "0.7827367930928147\n"
     ]
    }
   ],
   "metadata": {}
  },
  {
   "cell_type": "code",
   "execution_count": 51,
   "source": [
    "# plot MAE and val_MAE over each epoch\n",
    "fig = plt.figure()\n",
    "ax1 = fig.add_subplot(2, 1, 1)\n",
    "ax1.plot(history.history['mae'])\n",
    "ax1.plot(history.history['val_mae'])\n",
    "ax1.set_title('model mae')\n",
    "ax1.set_ylabel('MAE')\n",
    "ax1.set_xlabel('epoch')\n",
    "ax1.legend(['train', 'validation'], loc='upper left')\n",
    "\n",
    "# Plot loss and val_loss over each epoch\n",
    "ax2 = fig.add_subplot(2, 1, 2)\n",
    "ax2.plot(history.history['loss'])\n",
    "ax2.plot(history.history['val_loss'])\n",
    "ax2.set_title('model loss')\n",
    "ax2.set_ylabel('loss')\n",
    "ax2.set_xlabel('epoch')\n",
    "ax2.legend(['train', 'validation'], loc='upper left')\n",
    "\n",
    "plt.show()"
   ],
   "outputs": [
    {
     "output_type": "display_data",
     "data": {
      "text/plain": [
       "<Figure size 432x288 with 2 Axes>"
      ],
      "image/png": "[encoded data removed]"
     },
     "metadata": {
      "needs_background": "light"
     }
    }
   ],
   "metadata": {}
  }
 ],
 "metadata": {
  "orig_nbformat": 4,
  "language_info": {
   "name": "python",
   "version": "3.6.13",
   "mimetype": "text/x-python",
   "codemirror_mode": {
    "name": "ipython",
    "version": 3
   },
   "pygments_lexer": "ipython3",
   "nbconvert_exporter": "python",
   "file_extension": ".py"
  },
  "kernelspec": {
   "name": "python3",
   "display_name": "Python 3.6.13 64-bit ('tensorflow': conda)"
  },
  "interpreter": {
   "hash": "4ce6add6de03ec12ade4525d615de379e40b1ec772d0cb316a3e631e4469a5c4"
  }
 },
 "nbformat": 4,
 "nbformat_minor": 2
}